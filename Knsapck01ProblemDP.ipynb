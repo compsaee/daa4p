{
 "cells": [
  {
   "cell_type": "code",
   "execution_count": 2,
   "id": "208d21d8",
   "metadata": {},
   "outputs": [
    {
     "name": "stdout",
     "output_type": "stream",
     "text": [
      "Maximum value: 220\n"
     ]
    }
   ],
   "source": [
    "def knapsack_dp(capacity, weights, values, n):\n",
    "    dp = [[0 for _ in range(capacity + 1)] for _ in range(n + 1)]\n",
    "\n",
    "    for i in range(1, n + 1):\n",
    "        for w in range(1, capacity + 1):\n",
    "            if weights[i - 1] <= w:\n",
    "                dp[i][w] = max(values[i - 1] + dp[i - 1][w - weights[i - 1]], dp[i - 1][w])\n",
    "            else:\n",
    "                dp[i][w] = dp[i - 1][w]\n",
    "\n",
    "    return dp[n][capacity]\n",
    "\n",
    "if __name__ == \"__main__\":\n",
    "    values = [60, 100, 120]\n",
    "    weights = [10, 20, 30]\n",
    "    capacity = 50\n",
    "    n = len(values)\n",
    "\n",
    "    max_value = knapsack_dp(capacity, weights, values, n)\n",
    "    print(\"Maximum value:\", max_value)\n"
   ]
  },
  {
   "cell_type": "code",
   "execution_count": 1,
   "id": "715d7d50",
   "metadata": {},
   "outputs": [
    {
     "name": "stdout",
     "output_type": "stream",
     "text": [
      "280\n"
     ]
    }
   ],
   "source": [
    "def solve_knapsack():\n",
    "    val = [60, 100, 120]  # Value array\n",
    "    wt = [10, 20, 30]  # Weight array\n",
    "    W = 64\n",
    "    n = len(val) - 1\n",
    "\n",
    "    def knapsack(W, n):\n",
    "        # Base case\n",
    "        if n < 0 or W <= 0:\n",
    "            return 0\n",
    "        # Higher weight than available\n",
    "        if wt[n] > W:\n",
    "            return knapsack(W, n - 1)\n",
    "        else:\n",
    "            return max(\n",
    "                val[n] + knapsack(W - wt[n], n - 1),\n",
    "                knapsack(W, n - 1)\n",
    "            )  # max(including, not including)\n",
    "\n",
    "    print(knapsack(W, n))\n",
    "\n",
    "solve_knapsack()\n"
   ]
  },
  {
   "cell_type": "code",
   "execution_count": null,
   "id": "b20fbb43",
   "metadata": {},
   "outputs": [],
   "source": []
  }
 ],
 "metadata": {
  "kernelspec": {
   "display_name": "Python 3 (ipykernel)",
   "language": "python",
   "name": "python3"
  },
  "language_info": {
   "codemirror_mode": {
    "name": "ipython",
    "version": 3
   },
   "file_extension": ".py",
   "mimetype": "text/x-python",
   "name": "python",
   "nbconvert_exporter": "python",
   "pygments_lexer": "ipython3",
   "version": "3.11.5"
  }
 },
 "nbformat": 4,
 "nbformat_minor": 5
}
